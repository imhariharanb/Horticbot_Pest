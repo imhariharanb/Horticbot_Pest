{
  "cells": [
    {
      "cell_type": "markdown",
      "metadata": {
        "id": "view-in-github",
        "colab_type": "text"
      },
      "source": [
        "<a href=\"https://colab.research.google.com/github/imhariharanb/Horticbot_Pest/blob/main/Pest_detection.ipynb\" target=\"_parent\"><img src=\"https://colab.research.google.com/assets/colab-badge.svg\" alt=\"Open In Colab\"/></a>"
      ]
    },
    {
      "cell_type": "code",
      "execution_count": null,
      "metadata": {
        "id": "u5s4OfEG8ufw"
      },
      "outputs": [],
      "source": [
        "# to ignore the warnings\n",
        "import warnings\n",
        "warnings.filterwarnings(\"ignore\")"
      ]
    },
    {
      "cell_type": "markdown",
      "source": [
        "from google.colab import drive\n",
        "drive.mount('https://drive.google.com/file/d/13QIckn11NCsYqu9TOWAKLU32A-LXKNAs/view?usp=sharing')"
      ],
      "metadata": {
        "id": "Jl_5Qrb583Ub"
      }
    },
    {
      "cell_type": "code",
      "execution_count": null,
      "metadata": {
        "id": "7-NQgbKD85C_",
        "colab": {
          "base_uri": "https://localhost:8080/"
        },
        "outputId": "dad0399e-007f-433b-c5af-fa40873d66f7"
      },
      "outputs": [
        {
          "output_type": "stream",
          "name": "stdout",
          "text": [
            "unzip:  cannot find or open https://drive.google.com/drive/folders/14YENWFqNVGVhsIgwB-Wa-pk4XxywmK1H?usp=drive_link, https://drive.google.com/drive/folders/14YENWFqNVGVhsIgwB-Wa-pk4XxywmK1H?usp=drive_link.zip or https://drive.google.com/drive/folders/14YENWFqNVGVhsIgwB-Wa-pk4XxywmK1H?usp=drive_link.ZIP.\n",
            "\n",
            "No zipfiles found.\n"
          ]
        }
      ],
      "source": [
        "!unzip 'https://drive.google.com/drive/folders/14YENWFqNVGVhsIgwB-Wa-pk4XxywmK1H?usp=drive_link'"
      ]
    },
    {
      "cell_type": "code",
      "execution_count": null,
      "metadata": {
        "id": "NEcrXv9y86mA"
      },
      "outputs": [],
      "source": [
        "import pandas as pd\n",
        "import numpy as np\n",
        "import os\n",
        "import shutil\n",
        "import glob\n",
        "import matplotlib.pyplot as plt"
      ]
    },
    {
      "cell_type": "code",
      "execution_count": null,
      "metadata": {
        "id": "pQ7V3mFtAdUq"
      },
      "outputs": [],
      "source": [
        "train_path  = \"/content/pest/train\"\n",
        "#valid_path  = \"\"\n",
        "test_path   = \"/content/pest/test\"\n",
        "print(\"splited\")"
      ]
    },
    {
      "cell_type": "code",
      "source": [
        "from google.colab import drive\n",
        "drive.mount('/content/drive')"
      ],
      "metadata": {
        "id": "5R-voPzSGta7"
      },
      "execution_count": null,
      "outputs": []
    },
    {
      "cell_type": "code",
      "execution_count": null,
      "metadata": {
        "id": "CJ-5iglUAfmd"
      },
      "outputs": [],
      "source": [
        "\n",
        "from keras.preprocessing.image import ImageDataGenerator\n",
        "from keras.applications import vgg16\n",
        "from keras.models import Model\n",
        "from keras.layers import Dense, MaxPool2D, Conv2D\n",
        "import keras"
      ]
    },
    {
      "cell_type": "code",
      "execution_count": null,
      "metadata": {
        "id": "MYyvmuCjAkjS"
      },
      "outputs": [],
      "source": [
        "train_data_gen = ImageDataGenerator(preprocessing_function= vgg16.preprocess_input , zoom_range= 0.2, horizontal_flip= True, shear_range= 0.2 , rescale= 1./255)\n",
        "train = train_data_gen.flow_from_directory(directory= train_path , target_size=(224,224))"
      ]
    },
    {
      "cell_type": "code",
      "execution_count": null,
      "metadata": {
        "id": "oYEgEa9pAnVb"
      },
      "outputs": [],
      "source": [
        "test_data_gen = ImageDataGenerator(preprocessing_function= vgg16.preprocess_input, rescale= 1./255 )\n",
        "test = train_data_gen.flow_from_directory(directory= test_path , target_size=(224,224), shuffle= False)"
      ]
    },
    {
      "cell_type": "code",
      "execution_count": null,
      "metadata": {
        "id": "wilR4_YiAqbG"
      },
      "outputs": [],
      "source": [
        "train.class_indices"
      ]
    },
    {
      "cell_type": "code",
      "execution_count": null,
      "metadata": {
        "id": "Tzbc4EjWAsC4"
      },
      "outputs": [],
      "source": [
        "class_type = {0:'aphids',\n",
        " 1:'armyworm',\n",
        " 2:'beetle',\n",
        " 3:'bollworm',\n",
        " 4:'grasshopper',\n",
        " 5:'mites',\n",
        " 6:'mosquito',\n",
        " 7:'sawfly',\n",
        " 8:'stem_borer'}"
      ]
    },
    {
      "cell_type": "code",
      "execution_count": null,
      "metadata": {
        "id": "UZGZe6xFAr_Z"
      },
      "outputs": [],
      "source": [
        "t_img , label = train.next()"
      ]
    },
    {
      "cell_type": "code",
      "execution_count": null,
      "metadata": {
        "id": "mm4eBvrdAuhe"
      },
      "outputs": [],
      "source": [
        "def plotImages(img_arr, label):\n",
        "\n",
        "  for im, l in zip(img_arr,label) :\n",
        "    plt.figure(figsize= (5,5))\n",
        "    plt.imshow(im, cmap = 'gray')\n",
        "    plt.title(im.shape)\n",
        "    plt.axis = False\n",
        "    plt.show()"
      ]
    },
    {
      "cell_type": "code",
      "execution_count": null,
      "metadata": {
        "id": "sATxBbXHAw9a"
      },
      "outputs": [],
      "source": [
        "plotImages(t_img, label)"
      ]
    },
    {
      "cell_type": "code",
      "execution_count": null,
      "metadata": {
        "id": "QAQiOWHrA07P"
      },
      "outputs": [],
      "source": [
        "from keras.applications.vgg16 import VGG16\n",
        "from keras.layers import Flatten , Dense, Dropout , MaxPool2D"
      ]
    },
    {
      "cell_type": "code",
      "execution_count": null,
      "metadata": {
        "id": "9nCeOG5WA3wE"
      },
      "outputs": [],
      "source": [
        "from keras.applications.vgg16 import VGG16\n",
        "from keras.layers import Flatten , Dense, Dropout , MaxPool2D"
      ]
    },
    {
      "cell_type": "code",
      "execution_count": null,
      "metadata": {
        "id": "bqp_2CWyA6Ip"
      },
      "outputs": [],
      "source": [
        "vgg = VGG16( input_shape=(224,224,3), include_top= False) # include_top will consider the new weights"
      ]
    },
    {
      "cell_type": "code",
      "execution_count": null,
      "metadata": {
        "id": "y90aTGQfA8Jl"
      },
      "outputs": [],
      "source": [
        "for layer in vgg.layers:           # Dont Train the parameters again\n",
        "  layer.trainable = False"
      ]
    },
    {
      "cell_type": "code",
      "execution_count": null,
      "metadata": {
        "id": "fCqstEj8A92Y"
      },
      "outputs": [],
      "source": [
        "x = Flatten()(vgg.output)\n",
        "x = Dense(units=9, activation='softmax', name = 'predictions')(x)\n",
        "\n",
        "model = Model(vgg.input, x)"
      ]
    },
    {
      "cell_type": "code",
      "execution_count": null,
      "metadata": {
        "id": "tAPn8MGKzqAV"
      },
      "outputs": [],
      "source": [
        "model.summary()"
      ]
    },
    {
      "cell_type": "code",
      "execution_count": null,
      "metadata": {
        "id": "-luWdxzR0BGc"
      },
      "outputs": [],
      "source": [
        "model.compile(optimizer='adam', loss = 'categorical_crossentropy', metrics=['accuracy'])"
      ]
    },
    {
      "cell_type": "code",
      "execution_count": null,
      "metadata": {
        "id": "fybzmGD30KLy"
      },
      "outputs": [],
      "source": [
        "# implementing early stopping and model check point\n",
        "\n",
        "from keras.callbacks import EarlyStopping\n",
        "from keras.callbacks import ModelCheckpoint\n",
        "\n",
        "es = EarlyStopping(monitor= \"val_accuracy\" , min_delta= 0.01, patience= 3, verbose=1)\n",
        "mc = ModelCheckpoint(filepath=\"bestmodel.h5\", monitor=\"val_accuracy\", verbose=1, save_best_only= False)"
      ]
    },
    {
      "cell_type": "code",
      "execution_count": null,
      "metadata": {
        "id": "46B_PmpC0NKP"
      },
      "outputs": [],
      "source": [
        "#hist = model.fit_generator(train, steps_per_epoch= 10, epochs= 8, validation_data= valid , validation_steps= 32)\n",
        "hist = model.fit_generator(train, steps_per_epoch= 10, epochs=20 , validation_data= test , validation_steps= 32, callbacks=[mc])"
      ]
    },
    {
      "cell_type": "code",
      "execution_count": null,
      "metadata": {
        "id": "xpzY-Okf0QCD"
      },
      "outputs": [],
      "source": [
        "## load only the best model\n",
        "from keras.models import load_model\n",
        "model = load_model(\"bestmodel.h5\")"
      ]
    },
    {
      "cell_type": "code",
      "execution_count": null,
      "metadata": {
        "id": "cGiB3W8k0Sl8"
      },
      "outputs": [],
      "source": [
        "h = hist.history\n",
        "h.keys()"
      ]
    },
    {
      "cell_type": "code",
      "execution_count": null,
      "metadata": {
        "id": "RuyUs2xK0Sg3"
      },
      "outputs": [],
      "source": [
        "plt.plot(h['accuracy'])\n",
        "plt.plot(h['val_accuracy'] , c = \"red\")\n",
        "plt.title(\"acc vs v-acc\")\n",
        "plt.show()"
      ]
    },
    {
      "cell_type": "code",
      "execution_count": null,
      "metadata": {
        "id": "-zVbIgud0Se3"
      },
      "outputs": [],
      "source": [
        "plt.plot(h['loss'])\n",
        "plt.plot(h['val_loss'] , c = \"red\")\n",
        "plt.title(\"loss vs v-loss\")\n",
        "plt.show()"
      ]
    },
    {
      "cell_type": "code",
      "execution_count": null,
      "metadata": {
        "id": "hF_8dYcA0SbW"
      },
      "outputs": [],
      "source": [
        "# checking out the accuracy of our model\n",
        "\n",
        "acc = model.evaluate_generator(generator= test)[1]\n",
        "\n",
        "print(f\"The accuracy of your model is = {acc} %\")"
      ]
    },
    {
      "cell_type": "code",
      "execution_count": null,
      "metadata": {
        "id": "PCh8GPs30bOw"
      },
      "outputs": [],
      "source": [
        "from keras.preprocessing import image\n",
        "\n",
        "def get_img_array(img_path):\n",
        "  \"\"\"\n",
        "  Input : Takes in image path as input\n",
        "  Output : Gives out Pre-Processed image\n",
        "  \"\"\"\n",
        "  path = img_path\n",
        "\n",
        "  img = keras.utils.load_img(path, target_size=(224,224,3))\n",
        "\n",
        "  img = keras.utils.img_to_array(img)/255\n",
        "  img = np.expand_dims(img , axis= 0 )\n",
        "\n",
        "  return img"
      ]
    },
    {
      "cell_type": "code",
      "execution_count": null,
      "metadata": {
        "id": "35M1dNkx0fUC"
      },
      "outputs": [],
      "source": [
        "# path for that new image. ( you can take it either from google or any other scource)\n",
        "\n",
        "path = \"/content/pest/train/bollworm/jpg_11.jpg\"       # you can add any image path\n",
        "\n",
        "#predictions: path:- provide any image from google or provide image from all image folder\n",
        "img = get_img_array(path)\n",
        "\n",
        "res = class_type[np.argmax(model.predict(img))]\n",
        "print(f\"The given  image is of type = {res}\")\n",
        "print()\n",
        "\n",
        "# to display the image\n",
        "plt.imshow(img[0], cmap = \"gray\")\n",
        "plt.title(\"input image\")\n",
        "plt.show()"
      ]
    },
    {
      "cell_type": "code",
      "source": [
        "\n",
        "path = \"/content/pest/train/beetle/jpg_1.jpg\"       # you can add any image path\n",
        "\n",
        "#predictions: path:- provide any image from google or provide image from all image folder\n",
        "img = get_img_array(path)\n",
        "\n",
        "res = class_type[np.argmax(model.predict(img))]\n",
        "print(f\"The given  image is of type = {res}\")\n",
        "print()\n",
        "\n",
        "# to display the image\n",
        "plt.imshow(img[0], cmap = \"gray\")\n",
        "plt.title(\"input image\")\n",
        "plt.show()"
      ],
      "metadata": {
        "id": "nlf5veCJC7u7"
      },
      "execution_count": null,
      "outputs": []
    },
    {
      "cell_type": "code",
      "source": [
        "\n",
        "path = \"/content/pest/train/aphids/jpg_1.jpg\"       # you can add any image path\n",
        "\n",
        "#predictions: path:- provide any image from google or provide image from all image folder\n",
        "img = get_img_array(path)\n",
        "\n",
        "res = class_type[np.argmax(model.predict(img))]\n",
        "print(f\"The given  image is of type = {res}\")\n",
        "print()\n",
        "\n",
        "# to display the image\n",
        "plt.imshow(img[0], cmap = \"gray\")\n",
        "plt.title(\"input image\")\n",
        "plt.show()"
      ],
      "metadata": {
        "id": "MoB3IJH1DMc9"
      },
      "execution_count": null,
      "outputs": []
    },
    {
      "cell_type": "code",
      "source": [
        "\n",
        "path = \"/content/pest/train/armyworm/jpg_11.jpg\"       # you can add any image path\n",
        "\n",
        "#predictions: path:- provide any image from google or provide image from all image folder\n",
        "img = get_img_array(path)\n",
        "\n",
        "res = class_type[np.argmax(model.predict(img))]\n",
        "print(f\"The given  image is of type = {res}\")\n",
        "print()\n",
        "\n",
        "# to display the image\n",
        "plt.imshow(img[0], cmap = \"gray\")\n",
        "plt.title(\"input image\")\n",
        "plt.show()"
      ],
      "metadata": {
        "id": "rZ0Yg6ksDNhO"
      },
      "execution_count": null,
      "outputs": []
    },
    {
      "cell_type": "code",
      "source": [
        "\n",
        "path = \"/content/pest/train/grasshopper/jpg_1.jpg\"       # you can add any image path\n",
        "\n",
        "#predictions: path:- provide any image from google or provide image from all image folder\n",
        "img = get_img_array(path)\n",
        "\n",
        "res = class_type[np.argmax(model.predict(img))]\n",
        "print(f\"The given  image is of type = {res}\")\n",
        "print()\n",
        "\n",
        "# to display the image\n",
        "plt.imshow(img[0], cmap = \"gray\")\n",
        "plt.title(\"input image\")\n",
        "plt.show()"
      ],
      "metadata": {
        "id": "HIxOzzE1DOfh"
      },
      "execution_count": null,
      "outputs": []
    },
    {
      "cell_type": "code",
      "source": [
        "\n",
        "path = \"/content/pest/train/mites/jpg_1.jpg\"       # you can add any image path\n",
        "\n",
        "#predictions: path:- provide any image from google or provide image from all image folder\n",
        "img = get_img_array(path)\n",
        "\n",
        "res = class_type[np.argmax(model.predict(img))]\n",
        "print(f\"The given  image is of type = {res}\")\n",
        "print()\n",
        "\n",
        "# to display the image\n",
        "plt.imshow(img[0], cmap = \"gray\")\n",
        "plt.title(\"input image\")\n",
        "plt.show()"
      ],
      "metadata": {
        "id": "4pSZgBt4DPpC"
      },
      "execution_count": null,
      "outputs": []
    },
    {
      "cell_type": "code",
      "source": [
        "\n",
        "path = \"/content/pest/train/mosquito/jpg_1.jpg\"       # you can add any image path\n",
        "\n",
        "#predictions: path:- provide any image from google or provide image from all image folder\n",
        "img = get_img_array(path)\n",
        "\n",
        "res = class_type[np.argmax(model.predict(img))]\n",
        "print(f\"The given  image is of type = {res}\")\n",
        "print()\n",
        "\n",
        "# to display the image\n",
        "plt.imshow(img[0], cmap = \"gray\")\n",
        "plt.title(\"input image\")\n",
        "plt.show()"
      ],
      "metadata": {
        "id": "18_84u2ODQuO"
      },
      "execution_count": null,
      "outputs": []
    },
    {
      "cell_type": "code",
      "source": [
        "\n",
        "path = \"/content/pest/train/sawfly/jpg_1.jpg\"       # you can add any image path\n",
        "\n",
        "#predictions: path:- provide any image from google or provide image from all image folder\n",
        "img = get_img_array(path)\n",
        "\n",
        "res = class_type[np.argmax(model.predict(img))]\n",
        "print(f\"The given  image is of type = {res}\")\n",
        "print()\n",
        "\n",
        "# to display the image\n",
        "plt.imshow(img[0], cmap = \"gray\")\n",
        "plt.title(\"input image\")\n",
        "plt.show()"
      ],
      "metadata": {
        "id": "Ul_vds3mEV4q"
      },
      "execution_count": null,
      "outputs": []
    },
    {
      "cell_type": "code",
      "source": [
        "\n",
        "path = \"/content/pest/train/stem_borer/jpg_1.jpg\"       # you can add any image path\n",
        "\n",
        "#predictions: path:- provide any image from google or provide image from all image folder\n",
        "img = get_img_array(path)\n",
        "\n",
        "res = class_type[np.argmax(model.predict(img))]\n",
        "print(f\"The given  image is of type = {res}\")\n",
        "print()\n",
        "\n",
        "# to display the image\n",
        "plt.imshow(img[0], cmap = \"gray\")\n",
        "plt.title(\"input image\")\n",
        "plt.show()"
      ],
      "metadata": {
        "id": "A18mh_RTEVxF"
      },
      "execution_count": null,
      "outputs": []
    }
  ],
  "metadata": {
    "accelerator": "GPU",
    "colab": {
      "provenance": [],
      "include_colab_link": true
    },
    "gpuClass": "standard",
    "kernelspec": {
      "display_name": "Python 3",
      "name": "python3"
    },
    "language_info": {
      "name": "python"
    }
  },
  "nbformat": 4,
  "nbformat_minor": 0
}